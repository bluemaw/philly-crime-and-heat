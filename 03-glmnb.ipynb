{
 "cells": [
  {
   "cell_type": "code",
   "execution_count": 1,
   "metadata": {
    "collapsed": true
   },
   "outputs": [],
   "source": [
    "import pandas as pd\n",
    "import python.modeling as mdp"
   ]
  },
  {
   "cell_type": "code",
   "execution_count": 2,
   "outputs": [
    {
     "data": {
      "text/plain": "               violent_offense_count  felony_count  misdemeanor_count  year  \\\ndispatch_date                                                                 \n2006-01-01                        73            91                167  2006   \n2006-01-02                        52            75                110  2006   \n2006-01-03                        62            93                 88  2006   \n2006-01-04                        53            71                111  2006   \n2006-01-05                        43            54                 99  2006   \n\n              year_group dispatch_wday dispatch_month  dispatch_quarter  tmax  \\\ndispatch_date                                                                   \n2006-01-01     2006-2009        Sunday        January                 1  45.0   \n2006-01-02     2006-2009        Monday        January                 1  46.0   \n2006-01-03     2006-2009       Tuesday        January                 1  46.0   \n2006-01-04     2006-2009     Wednesday        January                 1  46.0   \n2006-01-05     2006-2009      Thursday        January                 1  51.0   \n\n               tmin  \ndispatch_date        \n2006-01-01     35.0  \n2006-01-02     35.0  \n2006-01-03     39.0  \n2006-01-04     37.0  \n2006-01-05     37.0  ",
      "text/html": "<div>\n<style scoped>\n    .dataframe tbody tr th:only-of-type {\n        vertical-align: middle;\n    }\n\n    .dataframe tbody tr th {\n        vertical-align: top;\n    }\n\n    .dataframe thead th {\n        text-align: right;\n    }\n</style>\n<table border=\"1\" class=\"dataframe\">\n  <thead>\n    <tr style=\"text-align: right;\">\n      <th></th>\n      <th>violent_offense_count</th>\n      <th>felony_count</th>\n      <th>misdemeanor_count</th>\n      <th>year</th>\n      <th>year_group</th>\n      <th>dispatch_wday</th>\n      <th>dispatch_month</th>\n      <th>dispatch_quarter</th>\n      <th>tmax</th>\n      <th>tmin</th>\n    </tr>\n    <tr>\n      <th>dispatch_date</th>\n      <th></th>\n      <th></th>\n      <th></th>\n      <th></th>\n      <th></th>\n      <th></th>\n      <th></th>\n      <th></th>\n      <th></th>\n      <th></th>\n    </tr>\n  </thead>\n  <tbody>\n    <tr>\n      <th>2006-01-01</th>\n      <td>73</td>\n      <td>91</td>\n      <td>167</td>\n      <td>2006</td>\n      <td>2006-2009</td>\n      <td>Sunday</td>\n      <td>January</td>\n      <td>1</td>\n      <td>45.0</td>\n      <td>35.0</td>\n    </tr>\n    <tr>\n      <th>2006-01-02</th>\n      <td>52</td>\n      <td>75</td>\n      <td>110</td>\n      <td>2006</td>\n      <td>2006-2009</td>\n      <td>Monday</td>\n      <td>January</td>\n      <td>1</td>\n      <td>46.0</td>\n      <td>35.0</td>\n    </tr>\n    <tr>\n      <th>2006-01-03</th>\n      <td>62</td>\n      <td>93</td>\n      <td>88</td>\n      <td>2006</td>\n      <td>2006-2009</td>\n      <td>Tuesday</td>\n      <td>January</td>\n      <td>1</td>\n      <td>46.0</td>\n      <td>39.0</td>\n    </tr>\n    <tr>\n      <th>2006-01-04</th>\n      <td>53</td>\n      <td>71</td>\n      <td>111</td>\n      <td>2006</td>\n      <td>2006-2009</td>\n      <td>Wednesday</td>\n      <td>January</td>\n      <td>1</td>\n      <td>46.0</td>\n      <td>37.0</td>\n    </tr>\n    <tr>\n      <th>2006-01-05</th>\n      <td>43</td>\n      <td>54</td>\n      <td>99</td>\n      <td>2006</td>\n      <td>2006-2009</td>\n      <td>Thursday</td>\n      <td>January</td>\n      <td>1</td>\n      <td>51.0</td>\n      <td>37.0</td>\n    </tr>\n  </tbody>\n</table>\n</div>"
     },
     "execution_count": 2,
     "metadata": {},
     "output_type": "execute_result"
    }
   ],
   "source": [
    "# Read in daily aggregated dataset\n",
    "df = pd.read_csv('data/processed/daily_aggregated_df.csv', index_col=0)\n",
    "df.head()"
   ],
   "metadata": {
    "collapsed": false
   }
  },
  {
   "cell_type": "code",
   "execution_count": 14,
   "outputs": [
    {
     "data": {
      "text/plain": "               vo  mis  fel  tmax  tmin  year  wday\ndispatch_date                                      \n2006-01-01     73  167   91   4.5   3.5  2006     0\n2006-01-02     52  110   75   4.6   3.5  2006     1\n2006-01-03     62   88   93   4.6   3.9  2006     2\n2006-01-04     53  111   71   4.6   3.7  2006     3\n2006-01-05     43   99   54   5.1   3.7  2006     4",
      "text/html": "<div>\n<style scoped>\n    .dataframe tbody tr th:only-of-type {\n        vertical-align: middle;\n    }\n\n    .dataframe tbody tr th {\n        vertical-align: top;\n    }\n\n    .dataframe thead th {\n        text-align: right;\n    }\n</style>\n<table border=\"1\" class=\"dataframe\">\n  <thead>\n    <tr style=\"text-align: right;\">\n      <th></th>\n      <th>vo</th>\n      <th>mis</th>\n      <th>fel</th>\n      <th>tmax</th>\n      <th>tmin</th>\n      <th>year</th>\n      <th>wday</th>\n    </tr>\n    <tr>\n      <th>dispatch_date</th>\n      <th></th>\n      <th></th>\n      <th></th>\n      <th></th>\n      <th></th>\n      <th></th>\n      <th></th>\n    </tr>\n  </thead>\n  <tbody>\n    <tr>\n      <th>2006-01-01</th>\n      <td>73</td>\n      <td>167</td>\n      <td>91</td>\n      <td>4.5</td>\n      <td>3.5</td>\n      <td>2006</td>\n      <td>0</td>\n    </tr>\n    <tr>\n      <th>2006-01-02</th>\n      <td>52</td>\n      <td>110</td>\n      <td>75</td>\n      <td>4.6</td>\n      <td>3.5</td>\n      <td>2006</td>\n      <td>1</td>\n    </tr>\n    <tr>\n      <th>2006-01-03</th>\n      <td>62</td>\n      <td>88</td>\n      <td>93</td>\n      <td>4.6</td>\n      <td>3.9</td>\n      <td>2006</td>\n      <td>2</td>\n    </tr>\n    <tr>\n      <th>2006-01-04</th>\n      <td>53</td>\n      <td>111</td>\n      <td>71</td>\n      <td>4.6</td>\n      <td>3.7</td>\n      <td>2006</td>\n      <td>3</td>\n    </tr>\n    <tr>\n      <th>2006-01-05</th>\n      <td>43</td>\n      <td>99</td>\n      <td>54</td>\n      <td>5.1</td>\n      <td>3.7</td>\n      <td>2006</td>\n      <td>4</td>\n    </tr>\n  </tbody>\n</table>\n</div>"
     },
     "execution_count": 14,
     "metadata": {},
     "output_type": "execute_result"
    }
   ],
   "source": [
    "# Prepare data for modeling\n",
    "mod_df = mdp.prepare_model_data(df)\n",
    "mod_df.head()"
   ],
   "metadata": {
    "collapsed": false
   }
  },
  {
   "cell_type": "markdown",
   "source": [
    "# Violent Offense Outcome\n"
   ],
   "metadata": {
    "collapsed": false
   }
  },
  {
   "cell_type": "code",
   "execution_count": 16,
   "outputs": [
    {
     "name": "stdout",
     "output_type": "stream",
     "text": [
      "                 Generalized Linear Model Regression Results                  \n",
      "==============================================================================\n",
      "Dep. Variable:                     vo   No. Observations:                 5948\n",
      "Model:                            GLM   Df Residuals:                     5943\n",
      "Model Family:        NegativeBinomial   Df Model:                            4\n",
      "Link Function:                    Log   Scale:                          1.0000\n",
      "Method:                          IRLS   Log-Likelihood:                -28908.\n",
      "Date:                Sun, 19 Mar 2023   Deviance:                       215.35\n",
      "Time:                        16:53:08   Pearson chi2:                     226.\n",
      "No. Iterations:                     5   Pseudo R-squ. (CS):            0.01673\n",
      "Covariance Type:            nonrobust                                         \n",
      "==============================================================================\n",
      "                 coef    std err          z      P>|z|      [0.025      0.975]\n",
      "------------------------------------------------------------------------------\n",
      "const         48.1540      5.435      8.860      0.000      37.502      58.806\n",
      "tmax           0.0176      0.023      0.767      0.443      -0.027       0.063\n",
      "tmin           0.0249      0.025      0.980      0.327      -0.025       0.075\n",
      "year          -0.0221      0.003     -8.191      0.000      -0.027      -0.017\n",
      "wday          -0.0042      0.007     -0.646      0.519      -0.017       0.009\n",
      "==============================================================================\n"
     ]
    }
   ],
   "source": [
    "vo_results = mdp.fit_nb_model(mod_df, outcome='vo')\n",
    "print(vo_results.summary())"
   ],
   "metadata": {
    "collapsed": false
   }
  },
  {
   "cell_type": "markdown",
   "source": [
    "# Misdemeanor Outcome"
   ],
   "metadata": {
    "collapsed": false
   }
  },
  {
   "cell_type": "code",
   "execution_count": 17,
   "outputs": [
    {
     "name": "stdout",
     "output_type": "stream",
     "text": [
      "                 Generalized Linear Model Regression Results                  \n",
      "==============================================================================\n",
      "Dep. Variable:                    mis   No. Observations:                 5948\n",
      "Model:                            GLM   Df Residuals:                     5943\n",
      "Model Family:        NegativeBinomial   Df Model:                            4\n",
      "Link Function:                    Log   Scale:                          1.0000\n",
      "Method:                          IRLS   Log-Likelihood:                -33111.\n",
      "Date:                Sun, 19 Mar 2023   Deviance:                       172.47\n",
      "Time:                        16:53:20   Pearson chi2:                     174.\n",
      "No. Iterations:                     5   Pseudo R-squ. (CS):            0.02673\n",
      "Covariance Type:            nonrobust                                         \n",
      "==============================================================================\n",
      "                 coef    std err          z      P>|z|      [0.025      0.975]\n",
      "------------------------------------------------------------------------------\n",
      "const         66.9092      5.406     12.378      0.000      56.314      77.504\n",
      "tmax           0.0140      0.023      0.613      0.540      -0.031       0.059\n",
      "tmin           0.0255      0.025      1.008      0.313      -0.024       0.075\n",
      "year          -0.0311      0.003    -11.566      0.000      -0.036      -0.026\n",
      "wday          -0.0073      0.007     -1.121      0.263      -0.020       0.005\n",
      "==============================================================================\n"
     ]
    }
   ],
   "source": [
    "mis_results = mdp.fit_nb_model(mod_df, outcome='mis')\n",
    "print(mis_results.summary())"
   ],
   "metadata": {
    "collapsed": false
   }
  },
  {
   "cell_type": "markdown",
   "source": [
    "# Felony Outcome"
   ],
   "metadata": {
    "collapsed": false
   }
  },
  {
   "cell_type": "code",
   "execution_count": 21,
   "outputs": [
    {
     "data": {
      "text/plain": "<class 'statsmodels.iolib.summary.Summary'>\n\"\"\"\n                 Generalized Linear Model Regression Results                  \n==============================================================================\nDep. Variable:                    fel   No. Observations:                 5948\nModel:                            GLM   Df Residuals:                     5935\nModel Family:        NegativeBinomial   Df Model:                           12\nLink Function:                    Log   Scale:                          1.0000\nMethod:                          IRLS   Log-Likelihood:                -30205.\nDate:                Sat, 18 Mar 2023   Deviance:                       333.82\nTime:                        17:17:04   Pearson chi2:                     355.\nNo. Iterations:                     7   Pseudo R-squ. (CS):            0.01497\nCovariance Type:            nonrobust                                         \n==============================================================================\n                 coef    std err          z      P>|z|      [0.025      0.975]\n------------------------------------------------------------------------------\nconst         29.1188      3.896      7.474      0.000      21.483      36.755\ntmax           0.0209      0.023      0.891      0.373      -0.025       0.067\ntmin           0.0299      0.027      1.093      0.274      -0.024       0.083\nyear          -0.0183      0.003     -6.773      0.000      -0.024      -0.013\nq1             7.2688      0.975      7.453      0.000       5.357       9.180\nq2             7.2630      0.973      7.461      0.000       5.355       9.171\nq3             7.2525      0.975      7.441      0.000       5.342       9.163\nq4             7.3345      0.975      7.526      0.000       5.424       9.245\nwday1          4.1541      0.557      7.452      0.000       3.061       5.247\nwday2          4.1908      0.557      7.518      0.000       3.098       5.283\nwday3          4.1823      0.557      7.502      0.000       3.090       5.275\nwday4          4.1617      0.558      7.463      0.000       3.069       5.255\nwday5          4.1274      0.558      7.403      0.000       3.035       5.220\nwday6          4.1484      0.558      7.441      0.000       3.056       5.241\nwday7          4.1540      0.558      7.451      0.000       3.061       5.247\n==============================================================================\n\"\"\"",
      "text/html": "<table class=\"simpletable\">\n<caption>Generalized Linear Model Regression Results</caption>\n<tr>\n  <th>Dep. Variable:</th>          <td>fel</td>       <th>  No. Observations:  </th>  <td>  5948</td> \n</tr>\n<tr>\n  <th>Model:</th>                  <td>GLM</td>       <th>  Df Residuals:      </th>  <td>  5935</td> \n</tr>\n<tr>\n  <th>Model Family:</th>    <td>NegativeBinomial</td> <th>  Df Model:          </th>  <td>    12</td> \n</tr>\n<tr>\n  <th>Link Function:</th>          <td>Log</td>       <th>  Scale:             </th> <td>  1.0000</td>\n</tr>\n<tr>\n  <th>Method:</th>                <td>IRLS</td>       <th>  Log-Likelihood:    </th> <td> -30205.</td>\n</tr>\n<tr>\n  <th>Date:</th>            <td>Sat, 18 Mar 2023</td> <th>  Deviance:          </th> <td>  333.82</td>\n</tr>\n<tr>\n  <th>Time:</th>                <td>17:17:04</td>     <th>  Pearson chi2:      </th>  <td>  355.</td> \n</tr>\n<tr>\n  <th>No. Iterations:</th>          <td>7</td>        <th>  Pseudo R-squ. (CS):</th>  <td>0.01497</td>\n</tr>\n<tr>\n  <th>Covariance Type:</th>     <td>nonrobust</td>    <th>                     </th>     <td> </td>   \n</tr>\n</table>\n<table class=\"simpletable\">\n<tr>\n    <td></td>       <th>coef</th>     <th>std err</th>      <th>z</th>      <th>P>|z|</th>  <th>[0.025</th>    <th>0.975]</th>  \n</tr>\n<tr>\n  <th>const</th> <td>   29.1188</td> <td>    3.896</td> <td>    7.474</td> <td> 0.000</td> <td>   21.483</td> <td>   36.755</td>\n</tr>\n<tr>\n  <th>tmax</th>  <td>    0.0209</td> <td>    0.023</td> <td>    0.891</td> <td> 0.373</td> <td>   -0.025</td> <td>    0.067</td>\n</tr>\n<tr>\n  <th>tmin</th>  <td>    0.0299</td> <td>    0.027</td> <td>    1.093</td> <td> 0.274</td> <td>   -0.024</td> <td>    0.083</td>\n</tr>\n<tr>\n  <th>year</th>  <td>   -0.0183</td> <td>    0.003</td> <td>   -6.773</td> <td> 0.000</td> <td>   -0.024</td> <td>   -0.013</td>\n</tr>\n<tr>\n  <th>q1</th>    <td>    7.2688</td> <td>    0.975</td> <td>    7.453</td> <td> 0.000</td> <td>    5.357</td> <td>    9.180</td>\n</tr>\n<tr>\n  <th>q2</th>    <td>    7.2630</td> <td>    0.973</td> <td>    7.461</td> <td> 0.000</td> <td>    5.355</td> <td>    9.171</td>\n</tr>\n<tr>\n  <th>q3</th>    <td>    7.2525</td> <td>    0.975</td> <td>    7.441</td> <td> 0.000</td> <td>    5.342</td> <td>    9.163</td>\n</tr>\n<tr>\n  <th>q4</th>    <td>    7.3345</td> <td>    0.975</td> <td>    7.526</td> <td> 0.000</td> <td>    5.424</td> <td>    9.245</td>\n</tr>\n<tr>\n  <th>wday1</th> <td>    4.1541</td> <td>    0.557</td> <td>    7.452</td> <td> 0.000</td> <td>    3.061</td> <td>    5.247</td>\n</tr>\n<tr>\n  <th>wday2</th> <td>    4.1908</td> <td>    0.557</td> <td>    7.518</td> <td> 0.000</td> <td>    3.098</td> <td>    5.283</td>\n</tr>\n<tr>\n  <th>wday3</th> <td>    4.1823</td> <td>    0.557</td> <td>    7.502</td> <td> 0.000</td> <td>    3.090</td> <td>    5.275</td>\n</tr>\n<tr>\n  <th>wday4</th> <td>    4.1617</td> <td>    0.558</td> <td>    7.463</td> <td> 0.000</td> <td>    3.069</td> <td>    5.255</td>\n</tr>\n<tr>\n  <th>wday5</th> <td>    4.1274</td> <td>    0.558</td> <td>    7.403</td> <td> 0.000</td> <td>    3.035</td> <td>    5.220</td>\n</tr>\n<tr>\n  <th>wday6</th> <td>    4.1484</td> <td>    0.558</td> <td>    7.441</td> <td> 0.000</td> <td>    3.056</td> <td>    5.241</td>\n</tr>\n<tr>\n  <th>wday7</th> <td>    4.1540</td> <td>    0.558</td> <td>    7.451</td> <td> 0.000</td> <td>    3.061</td> <td>    5.247</td>\n</tr>\n</table>"
     },
     "execution_count": 21,
     "metadata": {},
     "output_type": "execute_result"
    }
   ],
   "source": [
    "fel_results = mdp.fit_nb_model(mod_df, outcome='fel')\n",
    "fel_results.summary()"
   ],
   "metadata": {
    "collapsed": false
   }
  }
 ],
 "metadata": {
  "kernelspec": {
   "display_name": "Python 3",
   "language": "python",
   "name": "python3"
  },
  "language_info": {
   "codemirror_mode": {
    "name": "ipython",
    "version": 2
   },
   "file_extension": ".py",
   "mimetype": "text/x-python",
   "name": "python",
   "nbconvert_exporter": "python",
   "pygments_lexer": "ipython2",
   "version": "2.7.6"
  }
 },
 "nbformat": 4,
 "nbformat_minor": 0
}
