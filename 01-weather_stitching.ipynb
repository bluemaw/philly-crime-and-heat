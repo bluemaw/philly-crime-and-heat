{
 "nbformat": 4,
 "nbformat_minor": 0,
 "metadata": {
  "colab": {
   "provenance": [],
   "authorship_tag": "ABX9TyNm9+J1HMhp7VyRTxob/8oE"
  },
  "kernelspec": {
   "name": "python3",
   "display_name": "Python 3"
  },
  "language_info": {
   "name": "python"
  }
 },
 "cells": [
  {
   "cell_type": "code",
   "source": [
    "import os\n",
    "import pandas as pd"
   ],
   "metadata": {
    "colab": {
     "base_uri": "https://localhost:8080/"
    },
    "id": "UayZ8Pav4L86",
    "executionInfo": {
     "status": "ok",
     "timestamp": 1674934831371,
     "user_tz": 300,
     "elapsed": 926,
     "user": {
      "displayName": "Joseph Trybala",
      "userId": "10598125284282181328"
     }
    },
    "outputId": "7d7a32a9-77f3-4380-a339-b4ec394391cc"
   },
   "execution_count": 1,
   "outputs": []
  },
  {
   "cell_type": "code",
   "source": [
    "# read in NOAA weather data from the Franklin Institute from 2006-2022\n",
    "# low_memory=False to avoid mixed data type warning\n",
    "df_PFI_2006_2007 = pd.read_csv(\"./data/rawdata/PFI 2006-2007.csv\", low_memory=False)\n",
    "df_PFI_2007_2010 = pd.read_csv(\"./data/rawdata/PFI 2007-2010.csv\", low_memory=False)\n",
    "df_PFI_2010_2013 = pd.read_csv(\"./data/rawdata/PFI 2010-2013.csv\", low_memory=False)\n",
    "df_PFI_2013_2016 = pd.read_csv(\"./data/rawdata/PFI 2013-2016.csv\", low_memory=False)\n",
    "df_PFI_2016_2019 = pd.read_csv(\"./data/rawdata/PFI 2016-2019.csv\", low_memory=False)\n",
    "df_PFI_2019_2023 = pd.read_csv(\"./data/rawdata/PFI 2019-2023.csv\", low_memory=False)"
   ],
   "metadata": {
    "id": "GtI__H1j394z"
   },
   "execution_count": 4,
   "outputs": []
  },
  {
   "cell_type": "code",
   "source": [
    "# use df.info()\n",
    "# look at names of variables and associated data type for most recent year.\n",
    "df_PFI_2019_2023.info()"
   ],
   "metadata": {
    "colab": {
     "base_uri": "https://localhost:8080/"
    },
    "id": "o4LBdLcR5NNJ",
    "executionInfo": {
     "status": "ok",
     "timestamp": 1674934832936,
     "user_tz": 300,
     "elapsed": 3,
     "user": {
      "displayName": "Joseph Trybala",
      "userId": "10598125284282181328"
     }
    },
    "outputId": "270b2f89-bc80-4961-daed-c9afd03c674f"
   },
   "execution_count": 5,
   "outputs": [
    {
     "name": "stdout",
     "output_type": "stream",
     "text": [
      "<class 'pandas.core.frame.DataFrame'>\n",
      "RangeIndex: 1292 entries, 0 to 1291\n",
      "Data columns (total 6 columns):\n",
      " #   Column   Non-Null Count  Dtype  \n",
      "---  ------   --------------  -----  \n",
      " 0   STATION  1292 non-null   object \n",
      " 1   NAME     1292 non-null   object \n",
      " 2   DATE     1292 non-null   object \n",
      " 3   PRCP     957 non-null    float64\n",
      " 4   TMAX     1285 non-null   float64\n",
      " 5   TMIN     1287 non-null   float64\n",
      "dtypes: float64(3), object(3)\n",
      "memory usage: 60.7+ KB\n"
     ]
    }
   ]
  },
  {
   "cell_type": "code",
   "source": [
    "df_PFI_2007_2010.info()"
   ],
   "metadata": {
    "colab": {
     "base_uri": "https://localhost:8080/"
    },
    "id": "8EmiGkfQ5SY_",
    "executionInfo": {
     "status": "ok",
     "timestamp": 1674934864719,
     "user_tz": 300,
     "elapsed": 128,
     "user": {
      "displayName": "Joseph Trybala",
      "userId": "10598125284282181328"
     }
    },
    "outputId": "357a21a0-3b0d-4e27-aad3-da5951210a97"
   },
   "execution_count": 6,
   "outputs": [
    {
     "name": "stdout",
     "output_type": "stream",
     "text": [
      "<class 'pandas.core.frame.DataFrame'>\n",
      "RangeIndex: 1096 entries, 0 to 1095\n",
      "Data columns (total 6 columns):\n",
      " #   Column   Non-Null Count  Dtype  \n",
      "---  ------   --------------  -----  \n",
      " 0   STATION  1096 non-null   object \n",
      " 1   NAME     1096 non-null   object \n",
      " 2   DATE     1096 non-null   object \n",
      " 3   PRCP     1095 non-null   float64\n",
      " 4   TMAX     1094 non-null   float64\n",
      " 5   TMIN     1094 non-null   float64\n",
      "dtypes: float64(3), object(3)\n",
      "memory usage: 51.5+ KB\n"
     ]
    }
   ]
  },
  {
   "cell_type": "code",
   "source": [
    "#df_PFI_2006_2007\n",
    "#df_PFI_2007_2010\n",
    "#df_PFI_2010_2013\n",
    "#df_PFI_2013_2016\n",
    "#df_PFI_2016_2019\n",
    "#df_PFI_2019_2023"
   ],
   "metadata": {
    "id": "Dc3qv0sp5dmZ"
   },
   "execution_count": 7,
   "outputs": []
  },
  {
   "cell_type": "code",
   "source": [
    "print(df_PFI_2006_2007.shape)\n",
    "print(df_PFI_2007_2010.shape)\n",
    "print(df_PFI_2010_2013.shape)\n",
    "print(df_PFI_2013_2016.shape)\n",
    "print(df_PFI_2016_2019.shape)\n",
    "print(df_PFI_2019_2023.shape)"
   ],
   "metadata": {
    "colab": {
     "base_uri": "https://localhost:8080/"
    },
    "id": "G3lCPWr15zyW",
    "executionInfo": {
     "status": "ok",
     "timestamp": 1674935030023,
     "user_tz": 300,
     "elapsed": 116,
     "user": {
      "displayName": "Joseph Trybala",
      "userId": "10598125284282181328"
     }
    },
    "outputId": "b2ea89de-ad2a-467b-f03c-74c7aa06d8a3"
   },
   "execution_count": 8,
   "outputs": [
    {
     "name": "stdout",
     "output_type": "stream",
     "text": [
      "(366, 7)\n",
      "(1096, 6)\n",
      "(1097, 6)\n",
      "(1095, 6)\n",
      "(1053, 6)\n",
      "(1292, 6)\n"
     ]
    }
   ]
  },
  {
   "cell_type": "code",
   "source": [
    "#just to clarify what is different on the first dataframe\n",
    "df_PFI_2006_2007.info()"
   ],
   "metadata": {
    "colab": {
     "base_uri": "https://localhost:8080/"
    },
    "id": "lTJqccMI6LmQ",
    "executionInfo": {
     "status": "ok",
     "timestamp": 1674935088038,
     "user_tz": 300,
     "elapsed": 130,
     "user": {
      "displayName": "Joseph Trybala",
      "userId": "10598125284282181328"
     }
    },
    "outputId": "6c4236df-24fe-402d-bc27-0b128c78f3d5"
   },
   "execution_count": 9,
   "outputs": [
    {
     "name": "stdout",
     "output_type": "stream",
     "text": [
      "<class 'pandas.core.frame.DataFrame'>\n",
      "RangeIndex: 366 entries, 0 to 365\n",
      "Data columns (total 7 columns):\n",
      " #   Column   Non-Null Count  Dtype  \n",
      "---  ------   --------------  -----  \n",
      " 0   STATION  366 non-null    object \n",
      " 1   NAME     366 non-null    object \n",
      " 2   DATE     366 non-null    object \n",
      " 3   PRCP     365 non-null    float64\n",
      " 4   TMAX     366 non-null    int64  \n",
      " 5   TMIN     366 non-null    int64  \n",
      " 6   TOBS     0 non-null      float64\n",
      "dtypes: float64(2), int64(2), object(3)\n",
      "memory usage: 20.1+ KB\n"
     ]
    }
   ]
  },
  {
   "cell_type": "code",
   "source": [
    "#we can drop the tobs column as it is empty and likely an datatool export artifact\n",
    "df_PFI_2006_2007 = df_PFI_2006_2007.drop(['TOBS'], axis=1)"
   ],
   "metadata": {
    "id": "VRbgmgSn6apb"
   },
   "execution_count": 10,
   "outputs": []
  },
  {
   "cell_type": "code",
   "source": [
    "#confirming column drop\n",
    "df_PFI_2006_2007.info()"
   ],
   "metadata": {
    "colab": {
     "base_uri": "https://localhost:8080/"
    },
    "id": "hPRTmud07ATH",
    "executionInfo": {
     "status": "ok",
     "timestamp": 1674935291657,
     "user_tz": 300,
     "elapsed": 121,
     "user": {
      "displayName": "Joseph Trybala",
      "userId": "10598125284282181328"
     }
    },
    "outputId": "30527019-1bd8-44f4-dd9d-c17519b1b4ad"
   },
   "execution_count": 11,
   "outputs": [
    {
     "name": "stdout",
     "output_type": "stream",
     "text": [
      "<class 'pandas.core.frame.DataFrame'>\n",
      "RangeIndex: 366 entries, 0 to 365\n",
      "Data columns (total 6 columns):\n",
      " #   Column   Non-Null Count  Dtype  \n",
      "---  ------   --------------  -----  \n",
      " 0   STATION  366 non-null    object \n",
      " 1   NAME     366 non-null    object \n",
      " 2   DATE     366 non-null    object \n",
      " 3   PRCP     365 non-null    float64\n",
      " 4   TMAX     366 non-null    int64  \n",
      " 5   TMIN     366 non-null    int64  \n",
      "dtypes: float64(1), int64(2), object(3)\n",
      "memory usage: 17.3+ KB\n"
     ]
    }
   ]
  },
  {
   "cell_type": "code",
   "source": [
    "#confirming dataframe shapes align\n",
    "print(df_PFI_2006_2007.shape)\n",
    "print(df_PFI_2007_2010.shape)\n",
    "print(df_PFI_2010_2013.shape)\n",
    "print(df_PFI_2013_2016.shape)\n",
    "print(df_PFI_2016_2019.shape)\n",
    "print(df_PFI_2019_2023.shape)"
   ],
   "metadata": {
    "colab": {
     "base_uri": "https://localhost:8080/"
    },
    "id": "SXekoroM7Hh3",
    "executionInfo": {
     "status": "ok",
     "timestamp": 1674935323072,
     "user_tz": 300,
     "elapsed": 123,
     "user": {
      "displayName": "Joseph Trybala",
      "userId": "10598125284282181328"
     }
    },
    "outputId": "06188e97-cae1-40e8-b9f0-f100abb2c63b"
   },
   "execution_count": 12,
   "outputs": [
    {
     "name": "stdout",
     "output_type": "stream",
     "text": [
      "(366, 6)\n",
      "(1096, 6)\n",
      "(1097, 6)\n",
      "(1095, 6)\n",
      "(1053, 6)\n",
      "(1292, 6)\n"
     ]
    }
   ]
  },
  {
   "cell_type": "code",
   "source": [
    "#checking for missing values\n",
    "df_PFI_2006_2007.isna().sum() "
   ],
   "metadata": {
    "colab": {
     "base_uri": "https://localhost:8080/"
    },
    "id": "VSzcSuWY7V8O",
    "executionInfo": {
     "status": "ok",
     "timestamp": 1674935376998,
     "user_tz": 300,
     "elapsed": 172,
     "user": {
      "displayName": "Joseph Trybala",
      "userId": "10598125284282181328"
     }
    },
    "outputId": "e6e17b76-a63a-4025-8936-0f959ea1fa3f"
   },
   "execution_count": 13,
   "outputs": [
    {
     "data": {
      "text/plain": "STATION    0\nNAME       0\nDATE       0\nPRCP       1\nTMAX       0\nTMIN       0\ndtype: int64"
     },
     "execution_count": 13,
     "metadata": {},
     "output_type": "execute_result"
    }
   ]
  },
  {
   "cell_type": "code",
   "source": [
    "#this is one station reporting, to keep things in relatively in context we are utilizing just the one, \n",
    "#but in further project refinement/expansion we could use other local stations\n",
    "#lets check the other dataframes before stitching\n",
    "df_PFI_2006_2007.isna().sum() "
   ],
   "metadata": {
    "colab": {
     "base_uri": "https://localhost:8080/"
    },
    "id": "v5esszVi7Rsa",
    "executionInfo": {
     "status": "ok",
     "timestamp": 1674935680168,
     "user_tz": 300,
     "elapsed": 137,
     "user": {
      "displayName": "Joseph Trybala",
      "userId": "10598125284282181328"
     }
    },
    "outputId": "471666d3-308e-4eb8-cab4-fe4465fe3a15"
   },
   "execution_count": 14,
   "outputs": [
    {
     "data": {
      "text/plain": "STATION    0\nNAME       0\nDATE       0\nPRCP       1\nTMAX       0\nTMIN       0\ndtype: int64"
     },
     "execution_count": 14,
     "metadata": {},
     "output_type": "execute_result"
    }
   ]
  },
  {
   "cell_type": "code",
   "source": [
    "df_PFI_2007_2010.isna().sum() "
   ],
   "metadata": {
    "colab": {
     "base_uri": "https://localhost:8080/"
    },
    "id": "OXLRdvMA8gK5",
    "executionInfo": {
     "status": "ok",
     "timestamp": 1674935681265,
     "user_tz": 300,
     "elapsed": 2,
     "user": {
      "displayName": "Joseph Trybala",
      "userId": "10598125284282181328"
     }
    },
    "outputId": "8904fc80-019a-4b78-c582-7ffe3c583c33"
   },
   "execution_count": 15,
   "outputs": [
    {
     "data": {
      "text/plain": "STATION    0\nNAME       0\nDATE       0\nPRCP       1\nTMAX       2\nTMIN       2\ndtype: int64"
     },
     "execution_count": 15,
     "metadata": {},
     "output_type": "execute_result"
    }
   ]
  },
  {
   "cell_type": "code",
   "source": [
    "df_PFI_2010_2013.isna().sum() "
   ],
   "metadata": {
    "colab": {
     "base_uri": "https://localhost:8080/"
    },
    "id": "2wCcNn4-8eyb",
    "executionInfo": {
     "status": "ok",
     "timestamp": 1674935682628,
     "user_tz": 300,
     "elapsed": 3,
     "user": {
      "displayName": "Joseph Trybala",
      "userId": "10598125284282181328"
     }
    },
    "outputId": "1913fdd1-68f7-4296-fd1d-9e9ccfc71eaf"
   },
   "execution_count": 16,
   "outputs": [
    {
     "data": {
      "text/plain": "STATION     0\nNAME        0\nDATE        0\nPRCP       10\nTMAX        2\nTMIN        2\ndtype: int64"
     },
     "execution_count": 16,
     "metadata": {},
     "output_type": "execute_result"
    }
   ]
  },
  {
   "cell_type": "code",
   "source": [
    "df_PFI_2013_2016.isna().sum() "
   ],
   "metadata": {
    "colab": {
     "base_uri": "https://localhost:8080/"
    },
    "id": "Jche6yYV8dRp",
    "executionInfo": {
     "status": "ok",
     "timestamp": 1674935684515,
     "user_tz": 300,
     "elapsed": 120,
     "user": {
      "displayName": "Joseph Trybala",
      "userId": "10598125284282181328"
     }
    },
    "outputId": "70f52ada-835e-46d5-c894-2d06636fe2c2"
   },
   "execution_count": 17,
   "outputs": [
    {
     "data": {
      "text/plain": "STATION     0\nNAME        0\nDATE        0\nPRCP        5\nTMAX        2\nTMIN       11\ndtype: int64"
     },
     "execution_count": 17,
     "metadata": {},
     "output_type": "execute_result"
    }
   ]
  },
  {
   "cell_type": "code",
   "source": [
    "df_PFI_2016_2019.isna().sum() "
   ],
   "metadata": {
    "colab": {
     "base_uri": "https://localhost:8080/"
    },
    "id": "dNZNu2PI8bny",
    "executionInfo": {
     "status": "ok",
     "timestamp": 1674935686439,
     "user_tz": 300,
     "elapsed": 137,
     "user": {
      "displayName": "Joseph Trybala",
      "userId": "10598125284282181328"
     }
    },
    "outputId": "1aa6356c-2b60-46f0-e2b5-d52a86549dc9"
   },
   "execution_count": 18,
   "outputs": [
    {
     "data": {
      "text/plain": "STATION     0\nNAME        0\nDATE        0\nPRCP       48\nTMAX       20\nTMIN       16\ndtype: int64"
     },
     "execution_count": 18,
     "metadata": {},
     "output_type": "execute_result"
    }
   ]
  },
  {
   "cell_type": "code",
   "source": [
    "df_PFI_2019_2023.isna().sum() "
   ],
   "metadata": {
    "colab": {
     "base_uri": "https://localhost:8080/"
    },
    "id": "sl3Dh7E48GOz",
    "executionInfo": {
     "status": "ok",
     "timestamp": 1674935687444,
     "user_tz": 300,
     "elapsed": 137,
     "user": {
      "displayName": "Joseph Trybala",
      "userId": "10598125284282181328"
     }
    },
    "outputId": "37faf125-938c-40e1-fd53-697c010922c5"
   },
   "execution_count": 19,
   "outputs": [
    {
     "data": {
      "text/plain": "STATION      0\nNAME         0\nDATE         0\nPRCP       335\nTMAX         7\nTMIN         5\ndtype: int64"
     },
     "execution_count": 19,
     "metadata": {},
     "output_type": "execute_result"
    }
   ]
  },
  {
   "cell_type": "code",
   "source": [
    "# Precipitation (PRCP) seems to have significant NA values, \n",
    "#considering covid and the pattern of NAs one could assume that preciptitation measurements are collected manually\n",
    "# Disregarding this\n",
    "#time to stitch\n",
    "#df_PFI_2006_2007\n",
    "#df_PFI_2007_2010\n",
    "#df_PFI_2010_2013\n",
    "#df_PFI_2013_2016\n",
    "#df_PFI_2016_2019\n",
    "#df_PFI_2019_2023\n",
    "frames = [df_PFI_2006_2007, \n",
    "          df_PFI_2007_2010,\n",
    "          df_PFI_2010_2013,\n",
    "          df_PFI_2013_2016,\n",
    "          df_PFI_2016_2019,\n",
    "          df_PFI_2019_2023\n",
    "]\n",
    "\n",
    "final_df = pd.concat(frames, ignore_index=True)\n",
    "final_df.shape\n"
   ],
   "metadata": {
    "colab": {
     "base_uri": "https://localhost:8080/"
    },
    "id": "8rpMvrd48H2A",
    "executionInfo": {
     "status": "ok",
     "timestamp": 1674936497196,
     "user_tz": 300,
     "elapsed": 144,
     "user": {
      "displayName": "Joseph Trybala",
      "userId": "10598125284282181328"
     }
    },
    "outputId": "4a889741-6990-42e0-b0b7-6a0176031fd3"
   },
   "execution_count": 20,
   "outputs": [
    {
     "data": {
      "text/plain": "(5999, 6)"
     },
     "execution_count": 20,
     "metadata": {},
     "output_type": "execute_result"
    }
   ]
  },
  {
   "cell_type": "code",
   "source": [
    "#final combined data counts\n",
    "final_df.count() "
   ],
   "metadata": {
    "colab": {
     "base_uri": "https://localhost:8080/"
    },
    "id": "VdNG-J-uCjTz",
    "executionInfo": {
     "status": "ok",
     "timestamp": 1674937269905,
     "user_tz": 300,
     "elapsed": 122,
     "user": {
      "displayName": "Joseph Trybala",
      "userId": "10598125284282181328"
     }
    },
    "outputId": "7961418f-4b43-4d26-8068-c91f33005de4"
   },
   "execution_count": 21,
   "outputs": [
    {
     "data": {
      "text/plain": "STATION    5999\nNAME       5999\nDATE       5999\nPRCP       5599\nTMAX       5966\nTMIN       5963\ndtype: int64"
     },
     "execution_count": 21,
     "metadata": {},
     "output_type": "execute_result"
    }
   ]
  },
  {
   "cell_type": "code",
   "source": [
    "#final combined N/A counts\n",
    "final_df.isna().sum() "
   ],
   "metadata": {
    "colab": {
     "base_uri": "https://localhost:8080/"
    },
    "id": "zE8jC87qCfOq",
    "executionInfo": {
     "status": "ok",
     "timestamp": 1674937241076,
     "user_tz": 300,
     "elapsed": 140,
     "user": {
      "displayName": "Joseph Trybala",
      "userId": "10598125284282181328"
     }
    },
    "outputId": "1786cb05-17b3-4606-b1e6-ae0702211db2"
   },
   "execution_count": 22,
   "outputs": [
    {
     "data": {
      "text/plain": "STATION      0\nNAME         0\nDATE         0\nPRCP       400\nTMAX        33\nTMIN        36\ndtype: int64"
     },
     "execution_count": 22,
     "metadata": {},
     "output_type": "execute_result"
    }
   ]
  },
  {
   "cell_type": "code",
   "source": [],
   "metadata": {
    "id": "Js7HujQeCiPT"
   },
   "execution_count": null,
   "outputs": []
  },
  {
   "cell_type": "code",
   "source": [
    "#we are keeping precipitation for potential future use but the lack of collected data for 2019-2020 makes coherent analysis difficult\n",
    "#exporting to csv\n",
    "final_df.to_csv('./data/processed/PFI Weather Data.csv')"
   ],
   "metadata": {
    "id": "i4WZ9HtH9c3e"
   },
   "execution_count": 23,
   "outputs": []
  },
  {
   "cell_type": "code",
   "source": [
    "#importing back from csv\n",
    "final_df = pd.read_csv('./data/processed/PFI Weather Data.csv', low_memory=False)"
   ],
   "metadata": {
    "id": "El3qIsb7AkAS"
   },
   "execution_count": 24,
   "outputs": []
  },
  {
   "cell_type": "code",
   "source": [
    "final_df.shape"
   ],
   "metadata": {
    "id": "i9EIq4xnCeL8"
   },
   "execution_count": 25,
   "outputs": [
    {
     "data": {
      "text/plain": "(5999, 7)"
     },
     "execution_count": 25,
     "metadata": {},
     "output_type": "execute_result"
    }
   ]
  },
  {
   "cell_type": "code",
   "execution_count": 26,
   "outputs": [
    {
     "data": {
      "text/plain": "   Unnamed: 0      STATION                                    NAME  \\\n0           0  USC00366886  PHILADELPHIA FRANKLIN INSTITUTE, PA US   \n1           1  USC00366886  PHILADELPHIA FRANKLIN INSTITUTE, PA US   \n2           2  USC00366886  PHILADELPHIA FRANKLIN INSTITUTE, PA US   \n3           3  USC00366886  PHILADELPHIA FRANKLIN INSTITUTE, PA US   \n4           4  USC00366886  PHILADELPHIA FRANKLIN INSTITUTE, PA US   \n\n         DATE  PRCP  TMAX  TMIN  \n0  2006-01-01  0.00  45.0  35.0  \n1  2006-01-02  1.63  46.0  35.0  \n2  2006-01-03  0.07  46.0  39.0  \n3  2006-01-04  0.02  46.0  37.0  \n4  2006-01-05  0.00  51.0  37.0  ",
      "text/html": "<div>\n<style scoped>\n    .dataframe tbody tr th:only-of-type {\n        vertical-align: middle;\n    }\n\n    .dataframe tbody tr th {\n        vertical-align: top;\n    }\n\n    .dataframe thead th {\n        text-align: right;\n    }\n</style>\n<table border=\"1\" class=\"dataframe\">\n  <thead>\n    <tr style=\"text-align: right;\">\n      <th></th>\n      <th>Unnamed: 0</th>\n      <th>STATION</th>\n      <th>NAME</th>\n      <th>DATE</th>\n      <th>PRCP</th>\n      <th>TMAX</th>\n      <th>TMIN</th>\n    </tr>\n  </thead>\n  <tbody>\n    <tr>\n      <th>0</th>\n      <td>0</td>\n      <td>USC00366886</td>\n      <td>PHILADELPHIA FRANKLIN INSTITUTE, PA US</td>\n      <td>2006-01-01</td>\n      <td>0.00</td>\n      <td>45.0</td>\n      <td>35.0</td>\n    </tr>\n    <tr>\n      <th>1</th>\n      <td>1</td>\n      <td>USC00366886</td>\n      <td>PHILADELPHIA FRANKLIN INSTITUTE, PA US</td>\n      <td>2006-01-02</td>\n      <td>1.63</td>\n      <td>46.0</td>\n      <td>35.0</td>\n    </tr>\n    <tr>\n      <th>2</th>\n      <td>2</td>\n      <td>USC00366886</td>\n      <td>PHILADELPHIA FRANKLIN INSTITUTE, PA US</td>\n      <td>2006-01-03</td>\n      <td>0.07</td>\n      <td>46.0</td>\n      <td>39.0</td>\n    </tr>\n    <tr>\n      <th>3</th>\n      <td>3</td>\n      <td>USC00366886</td>\n      <td>PHILADELPHIA FRANKLIN INSTITUTE, PA US</td>\n      <td>2006-01-04</td>\n      <td>0.02</td>\n      <td>46.0</td>\n      <td>37.0</td>\n    </tr>\n    <tr>\n      <th>4</th>\n      <td>4</td>\n      <td>USC00366886</td>\n      <td>PHILADELPHIA FRANKLIN INSTITUTE, PA US</td>\n      <td>2006-01-05</td>\n      <td>0.00</td>\n      <td>51.0</td>\n      <td>37.0</td>\n    </tr>\n  </tbody>\n</table>\n</div>"
     },
     "execution_count": 26,
     "metadata": {},
     "output_type": "execute_result"
    }
   ],
   "source": [
    "final_df.head()"
   ],
   "metadata": {
    "collapsed": false
   }
  },
  {
   "cell_type": "code",
   "execution_count": null,
   "outputs": [],
   "source": [],
   "metadata": {
    "collapsed": false
   }
  }
 ]
}
